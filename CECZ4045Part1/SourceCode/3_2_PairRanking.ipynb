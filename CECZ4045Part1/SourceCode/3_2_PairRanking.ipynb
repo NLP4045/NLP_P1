{
 "cells": [
  {
   "cell_type": "code",
   "execution_count": null,
   "metadata": {
    "id": "tDmpYITViAnp"
   },
   "outputs": [],
   "source": [
    "import spacy\n",
    "import pandas as pd"
   ]
  },
  {
   "cell_type": "code",
   "execution_count": null,
   "metadata": {
    "id": "mlpc9sh_iI60"
   },
   "outputs": [],
   "source": [
    " df=pd.read_csv(\"jewel_reviews.csv\")"
   ]
  },
  {
   "cell_type": "code",
   "execution_count": null,
   "metadata": {
    "id": "dpuTGi0ojAoy"
   },
   "outputs": [],
   "source": [
    "review_df = df[:30]"
   ]
  },
  {
   "cell_type": "code",
   "execution_count": null,
   "metadata": {
    "id": "VvpTLwxwkXpT"
   },
   "outputs": [],
   "source": [
    "nlp = spacy.load('en_core_web_sm')"
   ]
  },
  {
   "cell_type": "code",
   "execution_count": null,
   "metadata": {
    "colab": {
     "base_uri": "https://localhost:8080/"
    },
    "id": "pQcfUR77j5Ye",
    "outputId": "956d18ac-275e-457f-91fc-20dd7ec24d33"
   },
   "outputs": [],
   "source": [
    "series_to_str = ' '.join(review_df['reviews'])\n",
    "tokenized = nlp(series_to_str)\n",
    "print ([token.text for token in tokenized])"
   ]
  },
  {
   "cell_type": "markdown",
   "metadata": {
    "id": "dD0mY8djju6a"
   },
   "source": [
    "# Rule Matching"
   ]
  },
  {
   "cell_type": "code",
   "execution_count": null,
   "metadata": {
    "id": "UhjoeVdXKzox"
   },
   "outputs": [],
   "source": [
    "from spacy.matcher import Matcher\n",
    "matcher = Matcher(nlp.vocab)\n",
    "pattern = [{'POS': 'ADJ'}, {'POS': 'NOUN'}]\n",
    "matcher.add('DESCRIPTION', None, pattern)\n",
    "matches = matcher(tokenized)\n",
    "span=[]\n",
    "for match_id, start, end in matches:\n",
    "    span.append(str(tokenized[start:end]).lower())"
   ]
  },
  {
   "cell_type": "code",
   "execution_count": null,
   "metadata": {
    "colab": {
     "base_uri": "https://localhost:8080/"
    },
    "id": "SDNkK05YTm0y",
    "outputId": "367248da-e1c4-44c2-9ece-01a37cf3ba07"
   },
   "outputs": [],
   "source": [
    "from collections import Counter\n",
    "occurrences = Counter(span)\n",
    "occurrences.most_common(5)"
   ]
  },
  {
   "cell_type": "code",
   "execution_count": null,
   "metadata": {
    "id": "Bh60CokQJNFq"
   },
   "outputs": [],
   "source": [
    "#export counter objects to csv\n",
    "import csv\n",
    "with open('phrase_ranking.csv','w') as csvfile:\n",
    "    fieldnames=['phrase','count']\n",
    "    writer=csv.writer(csvfile)\n",
    "    writer.writerow(fieldnames)\n",
    "    for key, value in sorted(occurrences.items(), key=lambda x: x[1], reverse=True):\n",
    "        writer.writerow([key]+ [value]) "
   ]
  },
  {
   "cell_type": "code",
   "execution_count": null,
   "metadata": {
    "id": "RjiaciURJhr5"
   },
   "outputs": [],
   "source": [
    "review_df.to_csv(\"jewel_reviews_30.csv\")"
   ]
  },
  {
   "cell_type": "markdown",
   "metadata": {},
   "source": [
    "## Contents of phrase_ranking.csv"
   ]
  },
  {
   "cell_type": "code",
   "execution_count": null,
   "metadata": {},
   "outputs": [],
   "source": [
    "!cat phrase_ranking.csv"
   ]
  },
  {
   "cell_type": "markdown",
   "metadata": {},
   "source": [
    "## Contents of jewel_reviews_30.csv"
   ]
  },
  {
   "cell_type": "code",
   "execution_count": null,
   "metadata": {},
   "outputs": [],
   "source": [
    "!cat jewel_reviews_30.csv"
   ]
  },
  {
   "cell_type": "code",
   "execution_count": null,
   "metadata": {},
   "outputs": [],
   "source": []
  }
 ],
 "metadata": {
  "colab": {
   "name": "NLP assignment - Rule based matching.ipynb",
   "provenance": []
  },
  "kernelspec": {
   "display_name": "Python 3",
   "language": "python",
   "name": "python3"
  },
  "language_info": {
   "codemirror_mode": {
    "name": "ipython",
    "version": 3
   },
   "file_extension": ".py",
   "mimetype": "text/x-python",
   "name": "python",
   "nbconvert_exporter": "python",
   "pygments_lexer": "ipython3",
   "version": "3.7.9"
  }
 },
 "nbformat": 4,
 "nbformat_minor": 4
}
