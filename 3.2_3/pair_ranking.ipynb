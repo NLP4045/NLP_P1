{
  "nbformat": 4,
  "nbformat_minor": 0,
  "metadata": {
    "colab": {
      "name": "NLP assignment - Rule based matching.ipynb",
      "provenance": []
    },
    "kernelspec": {
      "name": "python3",
      "display_name": "Python 3"
    }
  },
  "cells": [
    {
      "cell_type": "code",
      "metadata": {
        "id": "IiD3utYuhZ7L",
        "outputId": "68cf995c-131d-4083-e515-ffda16061428",
        "colab": {
          "base_uri": "https://localhost:8080/"
        }
      },
      "source": [
        "from google.colab import drive\n",
        "drive.mount('/content/drive')"
      ],
      "execution_count": 1,
      "outputs": [
        {
          "output_type": "stream",
          "text": [
            "Mounted at /content/drive\n"
          ],
          "name": "stdout"
        }
      ]
    },
    {
      "cell_type": "code",
      "metadata": {
        "id": "tDmpYITViAnp"
      },
      "source": [
        "#!pip install spacy\n",
        "import spacy\n",
        "import pandas as pd"
      ],
      "execution_count": 2,
      "outputs": []
    },
    {
      "cell_type": "code",
      "metadata": {
        "id": "mlpc9sh_iI60"
      },
      "source": [
        " df=pd.read_csv(\"/content/drive/My Drive/data_references/jewel_reviews.csv\")"
      ],
      "execution_count": 3,
      "outputs": []
    },
    {
      "cell_type": "code",
      "metadata": {
        "id": "dpuTGi0ojAoy"
      },
      "source": [
        "review_df = df[:30]"
      ],
      "execution_count": 4,
      "outputs": []
    },
    {
      "cell_type": "code",
      "metadata": {
        "id": "VvpTLwxwkXpT"
      },
      "source": [
        "nlp = spacy.load('en_core_web_sm')"
      ],
      "execution_count": 5,
      "outputs": []
    },
    {
      "cell_type": "code",
      "metadata": {
        "id": "pQcfUR77j5Ye",
        "outputId": "956d18ac-275e-457f-91fc-20dd7ec24d33",
        "colab": {
          "base_uri": "https://localhost:8080/"
        }
      },
      "source": [
        "series_to_str = ' '.join(review_df['reviews'])\n",
        "tokenized = nlp(series_to_str)\n",
        "print ([token.text for token in tokenized])"
      ],
      "execution_count": 6,
      "outputs": [
        {
          "output_type": "stream",
          "text": [
            "['This', 'is', 'really', 'amazing', 'never', 'seen', 'anything', 'like', 'this', 'anywhere', 'in', 'the', 'world', '.', 'The', 'view', 'of', 'the', 'waterfall', 'is', 'breathtaking', 'and', 'very', 'relaxing', '.', 'You', 'can', 'go', 'to', 'different', 'level', 'and', 'view', 'the', 'waterfall', '.', 'You', 'can', 'get', 'better', 'view', 'of', 'waterfall', 'on', 'level', '3', '.', 'There', 'are', 'plenty', 'seating', 'areas', 'to', 'enjoy', 'this', 'waterfall', '.', 'If', 'you', 'are', 'in', 'the', 'airport', 'this', 'is', 'a', 'must', 'visit', '.', 'We', 'chose', 'to', 'have', 'a', 'long', 'layover', 'in', 'Singapore', '(', '15hrs', ')', 'to', 'be', 'able', 'to', 'explore', 'it', 'for', 'a', 'day', '.', 'This', 'adventure', 'started', 'at', 'the', 'airport', 'which', 'we', 'could', 'have', 'stayed', 'in', 'for', 'the', 'entire', '15', 'hours', 'without', 'getting', 'bored', '.', 'They', 'have', 'many', 'unique', 'free', 'things', 'to', 'do', 'and', 'see', 'while', 'you', 'wait', 'in', 'the', 'airport', 'including', 'a', 'butterfly', 'garden', '!', 'This', 'particular', 'airport', 'has', 'been', 'rated', 'top', 'in', 'the', 'world', 'for', 'the', 'past', '6', 'years', 'and', 'has', 'definitely', 'earned', 'that', 'title', '.', 'The', 'Jewel', 'is', 'the', 'latest', 'in', 'their', 'attractions', 'and', 'now', 'holds', 'the', 'world', 'record', 'for', 'the', 'largest', 'indoor', 'waterfall', '.', 'Hidden', 'near', 'the', 'arrival', 'hall', 'of', 'terminal', '1', 'this', 'is', 'worth', 'stopping', 'by', '.', 'This', 'end', 'of', 'the', 'airport', 'includes', 'a', 'high', 'end', 'shopping', 'mall', 'with', 'many', 'international', 'stores', 'which', 'hide', 'the', 'waterfall', 'while', 'adding', 'more', 'mystique', 'to', 'the', 'attraction', '.', 'There', 'are', 'many', 'levels', 'of', 'stairs', 'and', 'walkways', 'surrounding', 'the', 'jewel', 'to', 'allow', 'you', 'to', 'get', 'different', 'perspectives', 'of', 'it', 'and', 'the', 'iconic', 'selfie', 'by', 'it', '.', 'While', 'we', 'were', 'there', 'they', 'had', 'signs', 'displayed', 'that', 'mentioned', 'new', 'additions', 'to', 'the', 'Jewel', 'experience', 'this', 'year', 'which', 'include', 'a', 'canopy', 'bridge', '.', 'This', 'entire', 'area', 'of', 'the', 'airport', 'will', 'be', 'adding', 'over', '10', 'new', 'attractions', 'estimated', 'by', 'the', 'end', 'of', 'this', 'year', '(', '2019', ')', '.', 'We', 'highly', 'advise', 'stopping', 'by', 'even', 'for', 'a', 'small', 'layover', 'to', 'at', 'least', 'witness', 'the', 'airport', 'for', 'yourself', '.', 'Keep', 'in', 'mind', 'if', 'you', 'have', 'a', 'layover', 'for', 'over', '5', 'hours', 'the', 'airport', 'also', 'offers', 'free', 'tour', 'bus', 'rides', 'of', 'Singapore', 'as', 'well!-', '@wanderingwithustwo', 'Been', 'there', 'multiple', 'times', 'and', 'I', 'have', \"n't\", 'yet', 'step', 'into', 'every', 'single', 'shop', '!', 'I', \"'ve\", 'been', 'to', 'different', 'restaurants', 'every', 'time', 'I', 'went', 'there', 'and', 'their', 'service', 'and', 'food', 'are', 'good', '!', 'Airport', 'has', 'always', 'been', 'a', 'good', 'hang', 'out', 'place', 'and', 'ever', 'since', 'Jewel', \"'s\", 'arrival', ',', 'it', 'just', 'made', 'things', 'much', 'better', 'and', 'enjoyable', '!', 'For', 'families', 'with', 'kids', ',', 'I', 'suggest', 'you', 'guys', 'to', 'visit', 'the', 'Canopy', 'Park', 'at', 'the', 'top', 'floor', '!', 'They', 'will', 'have', 'tons', 'of', 'fun', 'there', '!', 'Had', 'a', '10-', 'hour', 'layover', 'and', 'after', 'sleeping', 'at', 'the', 'hotel', 'at', 'the', 'airport', ',', 'we', 'checked', 'out', 'the', 'Jewel', ',', 'which', 'opened', 'in', 'October', '2019', '.', 'It', \"'s\", 'lush', ',', 'peaceful', ',', 'and', 'air', '-', 'conditioned', ',', 'but', 'you', 'feel', 'like', 'you', 'are', 'outside', '.', 'Definitely', 'worth', 'spending', 'some', 'time', 'to', 'see', 'it', '-', 'I', 'viewed', 'a', 'documentary', 'about', 'it', 'on', 'a', 'Singapore', 'Airlines', 'flight', '-', 'it', 'is', 'immaculate', 'and', 'they', 'do', 'a', 'great', 'job', 'of', 'keeping', 'it', 'in', 'tip', '-', 'top', 'shape', '.', 'This', 'is', 'one', 'amazing', 'place', 'located', 'at', 'the', 'airport', '.', 'The', 'vortex', 'and', 'indoor', 'forest', 'and', 'almost', 'too', 'real', '..', 'Nice', 'glass', 'Walkway', 'to', 'see', 'the', 'vortex', '.', 'This', 'is', 'an', 'absolutely', 'must', 'see', 'when', 'you', 'are', 'in', 'Singapore', '.', 'Entrance', 'is', 'free', 'but', 'there', 'are', 'some', 'charge', 'options', '.', 'We', 'spent', 'about', '3', 'hours', 'there', 'and', 'had', 'a', 'wonderful', 'time', 'Staying', 'in', 'Crowne', 'Plaza', 'so', 'exploring', 'here', 'was', 'essential', '.', 'It', 'was', 'slightly', 'subdued', 'because', 'of', 'the', 'reduction', 'in', 'travellers', '.', 'But', 'the', 'centre', 'piece', 'indoor', 'waterfall', 'is', 'outstanding', '.', 'Only', 'in', 'Singapore', 'would', 'you', 'find', 'such', 'imaginative', 'architecture', '.', 'Watching', 'the', 'falls', 'change', 'colour', 'as', 'two', 'trains', 'perfectly', 'synchronised', 'passed', 'each', 'other', 'behind', 'them', 'was', 'awe', 'inspiring', 'Who', 'would', 'ever', 'says', 'they', 'are', 'impressed', 'with', 'airports', '?', 'They', 'basically', 'serve', 'a', 'purpose', '.', 'Some', 'are', 'good', 'and', 'some', 'are', 'not', 'but', 'Singapore', 'Airport', 'is', 'a', 'whole', 'new', 'level', '.', 'The', 'airport', 'has', 'to', 'be', 'one', 'of', 'the', 'most', 'organised', 'and', 'cleanest', 'places', 'we', \"'ve\", 'travelled', 'to', '.', 'We', 'stayed', 'for', 'one', 'night', 'at', 'Crowne', 'Plaza', '.', 'The', 'Jewel', 'is', 'land', '-', 'side', 'between', 'terminals', '2', 'and', '3', 'and', 'is', 'very', 'aptly', 'named', '.', 'It', 'tends', 'to', 'be', 'restaurants', ',', 'coffee', 'lounges', 'and', 'so', 'on', '.', 'There', 'are', 'several', 'bars', 'on', 'the', 'top', 'level', '.', 'There', 'are', 'some', 'tourist', 'attractions', 'to', 'visit', 'and', 'if', 'you', 'are', 'passing', 'through', 'Singapore', ',', 'I', \"'d\", 'suggest', 'you', 'take', 'time', 'out', 'to', 'include', 'this', 'place', '.', ' ', 'I', 'would', 'not', 'say', 'that', 'about', 'any', 'other', 'airport', 'we', \"'ve\", 'been', 'through', '!', 'Many', 'airlines', 'have', 'a', 'bag', 'drop', 'so', 'you', 'can', 'get', 'rid', 'of', 'your', 'suitcase', 'early', 'and', 'relax', 'before', 'you', 'go', 'air', '-', 'side', 'through', 'security', 'for', 'your', 'flight', '.', 'Even', 'air', '-', 'side', 'there', 'is', 'plenty', 'to', 'do', 'and', 'see', '.', 'The', 'world', \"'s\", 'biggest', 'waterfall', 'is', 'impressive', 'and', 'in', 'the', 'evening', 'from', '7.30pm', 'they', 'do', 'light', 'shows', 'with', 'music', '.', 'Singapore', 'is', 'known', 'for', 'so', 'many', 'Malls', '!', 'And', 'this', 'one', 'is', 'really', 'amazing', 'and', 'worth', 'the', 'visit', '.', 'Make', 'sure', 'you', 'watch', 'the', 'light', 'show', 'in', 'the', 'evening', 'at', 'the', 'tallest', 'indoor', 'waterfall', '.', 'It', '’s', 'relaxing', 'and', 'peaceful', 'just', 'sitting', 'and', 'watching', 'the', 'waterfall', 'here', 'during', 'anytime', 'of', 'the', 'day', '.', 'I', 'have', 'visited', 'many', 'times', 'and', 'will', 'be', 'keep', 'going', 'time', 'to', 'time', '😀', 'We', 'had', 'a', 'wait', 'for', 'conecting', 'flight', 'at', 'the', 'airport', 'so', 'jumped', 'onto', 'the', 'conecting', 'train', 'and', 'headed', 'over', 'to', 'the', 'Jewel', '.', 'Fantastic', 'experiance', 'one', 'I', \"'m\", 'happy', 'to', 'have', 'taken', '.', 'The', 'airport', 'is', 'amazing', 'but', 'the', 'Jewel', 'took', 'it', 'to', 'a', 'new', 'level', '.', 'Floor', '5', 'is', 'outstanding', 'great', 'restaurants', ',', 'the', 'water', 'fall', ',', 'the', 'flower', 'walk', ',', 'just', 'awesome', '.', 'The', 'shops', 'were', 'great', 'but', 'for', 'me', 'the', 'whole', 'place', 'has', 'to', 'be', 'an', 'experiance', 'not', 'to', 'be', 'missed', '.', 'We', 'were', 'amazed', 'at', 'the', 'design', 'of', 'the', 'place', '.', ' ', 'So', 'much', 'thought', 'has', 'gone', 'into', 'the', 'design', '.', 'The', 'shops', 'are', 'a', 'shopaholics', 'dream', '.', 'There', 'are', 'many', 'restaurants', 'available', 'including', 'a', 'Pizza', 'Express', 'where', 'we', 'enjoyed', 'a', 'lovely', 'meal', '.', 'The', 'most', 'amazing', 'part', 'for', 'us', 'was', 'the', 'waterfall', 'and', 'the', 'planting', 'We', 'had', 'a', 'chance', 'to', 'fly', 'through', 'the', 'Singapore', 'Changi', 'airport', '.', ' ', 'The', 'Jewel', 'at', 'Terminal', '1', 'is', 'something', 'that', 'can', 'not', 'be', 'missed', '.', ' ', 'The', 'waterfall', 'is', 'a', 'sight', 'to', 'behold', '.', ' ', 'Take', 'the', 'escalators', 'to', 'the', 'top', 'floor', 'and', 'there', 'are', 'bars', 'and', 'restaurants', 'overlooking', 'the', 'waterfall', 'and', 'gardens', '.', ' ', 'At', 'each', 'Jewel', 'Changi', 'Airport', 'will', 'definitely', 'be', 'an', 'ideal', 'location', 'to', 'carry', 'out', 'wedding', 'proposal', '.', 'Although', 'it', 'is', 'a', 'nerve', '-', 'wrecking', 'experience', 'to', 'carry', 'out', 'wedding', 'proposal', 'in', 'a', 'crowded', 'place', ',', 'there', 'is', 'no', 'worry', 'of', 'rain', 'or', 'shine', 'as', 'it', 'is', 'an', 'indoor', 'environment', '.', 'With', 'just', 'simple', 'preparation', ',', 'The', 'airport', 'itself', 'is', 'a', 'tourist', 'attraction', '.', 'It', \"'s\", 'super', 'modern', 'and', 'at', 'the', 'same', 'time', 'close', 'to', 'nature', 'feels', '.', 'Waiting', 'for', 'a', 'long', 'flight', 'scheduled', '?', 'Jewel', 'got', 'your', 'back', '!', 'We', 'really', 'enjoy', 'our', 'quality', 'hours', 'at', 'Jewel', 'shopping', 'mall', 'Changi', 'airport', ',', 'not', 'only', 'for', 'shopping', 'and', 'eating', ',', 'but', 'also', 'for', 'exploring', 'an', 'amazing', 'Neo-', 'futurism', 'architectural', 'style', '.', 'This', 'iconic', 'building', 'is', 'designed', 'by', 'the', 'world-', 'renowned', 'architect', 'Moshe', 'Safdie', ',', '(', 'a', '81', 'years', 'old', ',', 'Took', 'leave', 'to', 'enjoy', 'our', 'day', 'but', 'was', 'not', 'allowed', 'into', 'the', 'skynets', 'bouncing', 'and', 'walking', 'with', 'my', '5', 'year', 'old', 'kid', '.', 'He', 'was', 'just', '2', 'cm', 'short', 'of', '110', 'cm', 'requirement', '.', 'So', 'had', 'to', 'leave', 'without', 'doing', 'anything', 'there', '.', 'Asked', 'for', 'a', 'cash', 'refund', 'but', 'the', 'management', 'refused', '.', 'So', 'we', 'had', 'paid', '80', 'for', 'a', 'I', 'visited', 'the', 'Jewel', 'as', 'I', 'was', 'early', 'for', 'my', 'flight', '-', 'it', 'is', 'well', 'worth', 'a', 'visit', '!', 'I', 'payed', 'to', 'enter', 'the', 'gardens', 'and', 'to', 'visit', 'the', 'Canopy', 'Bridge', '-', 'its', 'crazy', 'this', 'is', 'in', 'an', 'airport', '!', 'This', 'place', 'so', 'beautiful', 'that', 'we', 'are', 'speechless', 'about', 'it', '.', 'This', 'place', 'is', 'marvelous', 'an', 'indoor', 'waterfall', 'and', 'forest', '.', 'This', 'place', 'located', 'at', 'terminal-1', 'of', 'Changi', 'airport', '.', 'I', 'strongly', 'recommend', 'all', 'tourists', 'to', 'visit', 'this', 'place', '.', 'We', 'were', 'there', 'because', 'we', 'had', 'some', 'spare', 'days', 'in', 'SGP', '.', 'It', 'will', 'take', 'an', 'hour', 'to', 'reach', 'here', 'from', 'anywhere', 'in', 'the', 'city', '.', 'There', 'is', 'not', 'much', 'to', 'do', 'in', 'form', 'of', 'activities', '.', 'You', 'can', 'take', 'a', 'stroll', 'or', 'stay', 'near', 'the', 'rain', 'vortex', '.', 'The', 'paid', 'attractions', 'are', 'quite', 'unimaginative', '.', 'Its', 'better', 'to', 'just', 'Singapore', 'is', 'truly', 'a', 'unique', 'place', ',', 'and', 'this', 'airport', 'is', 'no', 'exception', '.', 'It', 'has', 'the', 'largest', 'indoor', 'waterfall', ',', 'and', 'it', '’s', 'very', 'fun', 'to', 'get', 'views', 'of', 'it', 'from', 'the', 'four', 'or', 'five', 'different', 'levels', ',', 'all', 'the', 'way', 'at', 'the', 'base', ',', 'to', 'almost', 'at', 'the', 'very', 'top', '.', 'It', '’s', 'very', 'beautiful', 'to', 'walk', 'around', 'and', 'take', 'We', 'flew', 'from', 'Changi', 'to', 'Sydney', 'and', 'were', 'eager', 'to', 'visit', 'the', 'recently', 'opened', 'Jewel', '.', 'We', 'checked', 'in', 'for', 'our', 'flight', 'then', 'followed', 'the', 'signs', ',', 'which', 'are', 'clearly', 'displayed', ',', 'to', 'this', 'amazing', 'feature', '.', 'It', 'was', 'very', 'crowded', ',', 'and', 'we', 'did', 'n’t', 'want', 'to', 'miss', 'our', 'flight', 'so', 'we', 'were', 'n’t', 'able', 'to', 'spend', 'as', 'long', 'as', 'we', 'would', 'have', 'liked', ',', 'but', 'it', 'certainly', 'takes', 'your', 'breath', 'away', '.', 'The', 'lifts', 'were', 'very', 'slow', 'and', 'jam', 'packed', 'so', 'that', 'made', 'it', 'harder', 'to', 'see', 'everything', '.', 'I', 'gave', 'up', 'and', 'walked', 'down', 'instead', '.', 'This', 'wonderful', 'attraction', 'is', 'linked', 'to', 'three', 'of', 'its', 'passenger', 'terminals', ',', 'and', 'was', 'quite', 'a', 'walk', 'for', 'us', 'from', 'check', 'in', '.', 'Built', 'in', 'a', 'huge', 'glass', 'dome', ',', 'the', 'centrepiece', 'is', 'the', 'astonishing', 'Rain', 'Vortex', ',', 'the', 'tallest', 'indoor', 'waterfall', 'in', 'the', 'world', '.', 'It', '’s', 'surrounded', 'by', 'lush', 'vegetation', 'and', 'terraces', 'where', 'you', 'can', 'sit', 'and', 'gaze', 'at', 'it', 'in', 'all', 'its', 'glory', '.', 'The', 'site', 'covers', 'over', '8', 'acres', 'and', 'has', '12', 'storeys', ',', '7', 'of', 'which', 'are', 'at', 'basement', 'level', '.', 'The', 'glass', 'and', 'steel', 'facade', 'was', 'actually', 'designed', 'by', 'the', 'same', 'architects', 'who', 'designed', 'the', 'Marina', 'Bay', 'Sands', 'Hotel', ',', 'with', 'its', 'iconic', 'ship', 'perched', 'on', 'the', 'top', 'of', 'the', 'building', '.', 'The', 'Shiseido', 'Forest', 'Valley', 'is', 'one', 'of', 'Asia', '’s', 'largest', 'indoor', 'gardens', '.', 'It', 'covers', 'around', '22,000', 'square', 'metres', 'and', 'spans', '5', 'stories', '.', 'It', '’s', 'extraordinary', 'to', 'think', 'that', 'there', 'are', 'around', '3,000', 'trees', 'and', '60,000', 'shrubs', 'from', 'all', 'around', 'the', 'world', '.', 'But', 'it', '’s', 'piece', 'de', 'resistance', 'has', 'to', 'be', 'the', 'astonishing', 'Rain', 'Vortex', 'waterfall', 'which', 'dominates', 'the', 'centre', 'of', 'the', 'garden', ',', 'and', 'stands', '130', 'ft', 'high', '.', 'It', 'cascades', 'down', 'from', 'a', 'round', 'hole', 'in', 'the', 'glass', 'ceiling', 'and', 'an', 'incredible', '38,000', 'litres', 'of', 'recirculating', 'rain', 'water', 'is', 'pumped', 'through', 'the', 'hole', 'every', 'minute', '.', 'Below', 'it', 'is', 'a', 'huge', 'basement', 'level', 'pool', '.', 'The', 'glass', 'roof', ',', 'which', 'is', 'toroid', 'shaped', ',', 'is', 'made', 'up', 'of', 'over', '9,000', 'pieces', 'of', 'glass', '.', 'At', 'night', 'it', 'becomes', 'the', ' ', '360', 'degree', 'backdrop', 'for', 'a', 'light', 'and', 'sound', 'show', ',', 'which', 'sadly', 'we', 'could', 'not', 'stay', 'for', '.', 'It', '’s', 'a', 'truly', 'astonishing', 'piece', 'of', 'engineering', 'and', 'design', ',', 'and', 'it', 'is', 'incredible', 'to', 'think', 'that', 'it', 'is', 'inside', 'an', 'airport', '.', 'We', 'just', 'did', 'n’t', 'have', 'time', 'to', 'visit', 'the', 'canopy', 'park', ',', 'which', 'is', 'about', '$', '5', 'to', 'enter', ',', 'or', 'the', 'canopy', 'mazes', ',', 'but', 'I', 'was', 'able', 'to', 'walk', 'down', 'to', 'the', 'bottom', 'of', 'the', 'waterfall', 'and', 'stand', 'and', 'gaze', 'in', 'awe', 'at', 'its', 'beauty', '.', 'It', 'seems', 'odd', 'to', 'want', 'to', 'spend', 'more', 'time', 'in', 'an', 'airport', ',', 'but', 'there', 'is', 'still', 'so', 'much', 'to', 'see', 'here', 'in', 'Jewel', 'that', 'I', 'hope', 'one', 'day', 'to', 'return', '.', 'I', 'did', \"n't\", 'believe', 'that', 'an', 'airport', 'could', 'actually', 'be', 'a', 'destination', ',', 'but', 'this', 'one', 'is', '.', ' ', 'If', 'you', 'are', 'visiting', 'Singapore', ',', 'or', 'have', 'a', 'layover', ',', 'you', 'MUST', 'spend', 'time', 'in', 'this', 'airport', '.', ' ', 'Best', 'if', 'you', 'can', 'visit', '\"', 'The', 'Jewel', '\"', 'at', 'night', ',', 'but', 'beautiful', 'any', 'time', '.', 'The', 'entire', 'airport', 'is', 'worth', 'exploring', '.', 'wide', 'range', 'of', 'food', 'selection', ',', 'food', 'is', 'nice', 'and', 'lots', 'of', 'seat', 'inside', 'teh', 'resturant', ',', 'impressive', 'design', 'and', 'you', 'will', 'not', 'know', 'is', 'this', 'an', 'airport', '.', 'It', \"'s\", 'no', 'surprise', 'that', 'this', 'has', 'been', 'voted', 'the', 'best', 'airport', 'in', 'the', 'world', '7', 'times', '.', ' ', 'The', 'indoor', 'waterfall', 'is', 'spectacular', '-', 'even', 'better', 'when', 'the', 'light', 'shows', 'are', 'on', '.', ' ', 'There', 'are', 'lots', 'of', 'things', 'to', 'do', ',', 'though', 'you', 'do', 'have', 'to', 'pay', 'for', 'some', 'of', 'them', '.', ' ', 'There', 'are', 'plenty', 'of', 'eateries', ',', 'but', 'allow', 'time', 'if', 'you', 'are', 'travelling', 'at', 'the', 'weekend', '.', 'Amazing', 'place', 'so', 'much', 'more', 'than', 'a', 'shopping', 'mall', 'and', 'the', 'waterfall', 'is', 'amazing', 'with', 'or', 'without', 'the', 'light', 'showA', 'complete', 'entertainment', 'centre', 'on', 'the', 'top', 'level', 'Plenty', 'of', 'venues', 'for', 'food', 'and', 'drinkCaters', 'for', 'all', 'age', 'groups', 'At', 'first', 'bought', 'the', 'bundle', 'ticket', 'in', 'order', 'to', 'do', 'all', 'activities', 'and', 'we', 'thought', 'that', 'it', 'was', 'quite', 'price', ':', 'but', 'it', 'definitely', 'worths', 'every', 'penny', '!', 'All', 'activities', 'were', 'very', 'funny', 'and', 'adapted', 'for', 'kids', 'and', 'big', 'kids', '.', 'Each', 'part', 'is', 'very', 'different', 'from', 'the', 'others', 'so', 'it', '’s', 'not', 'boring', 'and', 'you', 'can', 'spend', 'many', 'hours', 'there', '.', 'The', 'mall', 'is', 'also', 'full', 'of', 'amazing', 'shops', 'and', 'they', 'are', 'plenty', 'of', 'good', 'restaurants', ',', 'it', '’s', 'such', 'a', 'good', 'destination', 'for', 'a', 'rainy', 'Singaporean', 'day', '.', 'That', 'place', 'is', 'extraordinary', '.', 'Im', 'so', 'amze', 'with', 'the', 'vortex', 'ca', 'nt', 'keep', 'my', 'eyes', 'of', 'it', '.', 'Its', 'very', 'clean', 'and', 'very', 'cool', 'I', '’d', 'like', 'to', 'highly', 'commend', 'Carissa', 'Santos', 'from', 'the', 'Jewel', 'Guest', 'Centre', 'who', 'very', 'kindly', 'helped', 'us', 'find', 'our', 'car', '.', 'Carissa', 'noticed', 'that', 'I', 'was', 'repeating', 'my', 'steps', 'when', 'trying', 'to', 'locate', 'our', 'car', 'in', 'the', 'car', 'park', 'and', 'went', 'out', 'of', 'her', 'way', 'to', 'find', 'me', 'and', 'assist', 'me', 'in', 'finding', 'my', 'car', '.', 'She', 'was', 'kind', 'enough', 'to', 'spend', 'a', 'good', '20', 'minutes', 'helping', 'us', 'and', 'even', 'ensured', 'we', 'were', 'safely', 'in', 'our', 'car', 'before', 'saying', 'goodbye', '.', 'She', 'went', 'above', 'and', 'beyond', 'what', 'I', 'expected', '-', 'thank', 'you', 'Carissa', '!', 'As', 'a', 'Singaporean', ',', 'I', \"'m\", 'proud', 'to', 'live', 'in', 'a', 'country', 'with', 'the', 'best', 'airport', 'in', 'the', 'world', '.', 'You', 'can', 'spend', 'the', 'whole', 'day', 'at', 'Jewel', 'and', 'you', 'will', 'still', 'not', 'feel', 'that', 'it', 'is', 'enough', '.', 'Take', 'your', 'time', 'and', 'relax', 'by', 'the', 'waterfall', '.', 'The', 'view', 'of', 'the', 'waterfall', ',', 'is', 'best', 'in', 'any', 'level', 'you', 'are', 'at', '.', 'I', 'was', 'an', 'engineer', 'for', 'the', 'project', '.', 'Despite', 'the', 'fact', 'that', 'I', 'have', 'worked', 'at', 'the', 'very', 'same', 'place', 'on', 'daily', 'basis', 'for', 'almost', '3', 'years', ',', 'it', 'never', 'failed', 'to', 'amaze', 'me', 'every', 'time', 'I', 'visit', '.', 'Not', 'sure', 'about', 'other', ',', 'but', 'it', 'always', 'reminds', 'me', 'of', 'the', 'Jurassic', 'Park', ',', 'of', 'course', ',', 'without', 'the', 'dinosaurs', '.']\n"
          ],
          "name": "stdout"
        }
      ]
    },
    {
      "cell_type": "markdown",
      "metadata": {
        "id": "dD0mY8djju6a"
      },
      "source": [
        "# Rule Matching"
      ]
    },
    {
      "cell_type": "code",
      "metadata": {
        "id": "UhjoeVdXKzox"
      },
      "source": [
        "from spacy.matcher import Matcher\n",
        "matcher = Matcher(nlp.vocab)\n",
        "pattern = [{'POS': 'ADJ'}, {'POS': 'NOUN'}]\n",
        "matcher.add('DESCRIPTION', None, pattern)\n",
        "matches = matcher(tokenized)\n",
        "span=[]\n",
        "for match_id, start, end in matches:\n",
        "    span.append(str(tokenized[start:end]).lower())"
      ],
      "execution_count": 8,
      "outputs": []
    },
    {
      "cell_type": "code",
      "metadata": {
        "id": "SDNkK05YTm0y",
        "outputId": "367248da-e1c4-44c2-9ece-01a37cf3ba07",
        "colab": {
          "base_uri": "https://localhost:8080/"
        }
      },
      "source": [
        "from collections import Counter\n",
        "occurrences = Counter(span)\n",
        "occurrences.most_common(5)"
      ],
      "execution_count": 9,
      "outputs": [
        {
          "output_type": "execute_result",
          "data": {
            "text/plain": [
              "[('indoor waterfall', 6),\n",
              " ('top floor', 2),\n",
              " ('amazing place', 2),\n",
              " ('new level', 2),\n",
              " ('top level', 2)]"
            ]
          },
          "metadata": {
            "tags": []
          },
          "execution_count": 9
        }
      ]
    },
    {
      "cell_type": "code",
      "metadata": {
        "id": "Bh60CokQJNFq"
      },
      "source": [
        "#export counter objects to csv\n",
        "import csv\n",
        "with open('/content/drive/My Drive/data_references/phrase_ranking.csv','w') as csvfile:\n",
        "    fieldnames=['phrase','count']\n",
        "    writer=csv.writer(csvfile)\n",
        "    writer.writerow(fieldnames)\n",
        "    for key, value in occurrences.items():\n",
        "        writer.writerow([key]+ [value]) "
      ],
      "execution_count": 23,
      "outputs": []
    },
    {
      "cell_type": "code",
      "metadata": {
        "id": "RjiaciURJhr5"
      },
      "source": [
        "review_df.to_csv(\"/content/drive/My Drive/data_references/jewel_reviews_30.csv\")"
      ],
      "execution_count": null,
      "outputs": []
    }
  ]
}